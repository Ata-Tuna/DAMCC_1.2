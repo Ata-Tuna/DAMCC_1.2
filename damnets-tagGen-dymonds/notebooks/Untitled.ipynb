{
 "cells": [
  {
   "cell_type": "code",
   "execution_count": 1,
   "id": "a9dc7ee8-c527-4ed0-84b4-c269e56e0316",
   "metadata": {},
   "outputs": [],
   "source": [
    "import torch\n",
    "from torch_geometric.data import Data\n",
    "\n",
    "edge_index = torch.tensor([[0, 1],\n",
    "                           [1, 0],\n",
    "                           [1, 2],\n",
    "                           [2, 1]], dtype=torch.long)\n",
    "x = torch.tensor([[-1], [0], [1]], dtype=torch.float)\n",
    "\n",
    "data = Data(x=x, edge_index=edge_index.t().contiguous())"
   ]
  },
  {
   "cell_type": "code",
   "execution_count": 2,
   "id": "12bff9d8-6c7c-4afc-9559-a459f01292a4",
   "metadata": {},
   "outputs": [
    {
     "data": {
      "text/plain": [
       "Data(x=[3, 1], edge_index=[2, 4])"
      ]
     },
     "execution_count": 2,
     "metadata": {},
     "output_type": "execute_result"
    }
   ],
   "source": [
    "data"
   ]
  },
  {
   "cell_type": "code",
   "execution_count": 3,
   "id": "a170bd47-de76-4df6-a8da-dca92b2fa113",
   "metadata": {},
   "outputs": [
    {
     "data": {
      "text/plain": [
       "tensor([[0, 1, 1, 2],\n",
       "        [1, 0, 2, 1]])"
      ]
     },
     "execution_count": 3,
     "metadata": {},
     "output_type": "execute_result"
    }
   ],
   "source": [
    "data.edge_index"
   ]
  },
  {
   "cell_type": "code",
   "execution_count": 4,
   "id": "d6abc284-fe98-4376-97de-2e9c58f532b3",
   "metadata": {},
   "outputs": [],
   "source": [
    "edges = [(0,1), (1,2)]"
   ]
  },
  {
   "cell_type": "code",
   "execution_count": 6,
   "id": "c24a2768-ed14-4a21-9da7-835221e88d27",
   "metadata": {},
   "outputs": [],
   "source": [
    "edges_l = list(map(lambda x: [x[0], x[1]], edges))"
   ]
  },
  {
   "cell_type": "code",
   "execution_count": 7,
   "id": "f0306b56-7e5e-46f8-b13c-9e7a57aca395",
   "metadata": {},
   "outputs": [],
   "source": [
    "import numpy as np"
   ]
  },
  {
   "cell_type": "code",
   "execution_count": 15,
   "id": "47a55561-27a3-44cf-8fc2-9a3664a79c16",
   "metadata": {},
   "outputs": [
    {
     "data": {
      "text/plain": [
       "tensor([[0, 1],\n",
       "        [1, 2]], dtype=torch.int32)"
      ]
     },
     "execution_count": 15,
     "metadata": {},
     "output_type": "execute_result"
    }
   ],
   "source": [
    "torch.Tensor(edges_l).T.int()"
   ]
  },
  {
   "cell_type": "code",
   "execution_count": null,
   "id": "e480f0d3-2e17-46e8-a379-8e8ca33adb59",
   "metadata": {},
   "outputs": [],
   "source": []
  }
 ],
 "metadata": {
  "kernelspec": {
   "display_name": "Python 3 (ipykernel)",
   "language": "python",
   "name": "python3"
  },
  "language_info": {
   "codemirror_mode": {
    "name": "ipython",
    "version": 3
   },
   "file_extension": ".py",
   "mimetype": "text/x-python",
   "name": "python",
   "nbconvert_exporter": "python",
   "pygments_lexer": "ipython3",
   "version": "3.8.13"
  }
 },
 "nbformat": 4,
 "nbformat_minor": 5
}
