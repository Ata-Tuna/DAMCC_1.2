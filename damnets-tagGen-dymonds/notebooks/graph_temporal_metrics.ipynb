{
 "cells": [
  {
   "cell_type": "markdown",
   "id": "a1c23a36-56f3-4bcc-be8d-db368c20ae24",
   "metadata": {},
   "source": [
    "This notebook answers the following questions:\n",
    "- How to install the tglib package?\n",
    "- How to transform the Insecta dataset into tglib format?\n",
    "- How to use tglib to compute graph statistics on the Insecta statistics?"
   ]
  },
  {
   "cell_type": "markdown",
   "id": "2ca66359-8b80-4fd3-8673-cfdb213251bd",
   "metadata": {},
   "source": [
    "## How to install the tglib package?"
   ]
  },
  {
   "cell_type": "markdown",
   "id": "7ca8a883-1139-44f0-92a7-ab7a82fbc2fc",
   "metadata": {},
   "source": [
    " You need to download and compile tglib before running this notebook\n",
    " - git clone --recurse-submodules https://gitlab.com/tgpublic/tglib.git\n",
    " - cd tglib/tglib_cpp\n",
    " - mkdir build-release\n",
    " - cd build-release\n",
    " - cmake .. -DCMAKE_BUILD_TYPE=Release\n",
    " - make"
   ]
  },
  {
   "cell_type": "markdown",
   "id": "3b4219bb-ac15-445e-9414-6b8df1906bdd",
   "metadata": {},
   "source": [
    "## How to transform the Insecta dataset into tglib format?"
   ]
  },
  {
   "cell_type": "code",
   "execution_count": 147,
   "id": "4bc96046-aa96-44df-8f26-fa87dcca86f0",
   "metadata": {},
   "outputs": [],
   "source": [
    "import sys\n",
    "sys.path.append(\"/workdir/scripts/tglib/tglib_cpp/build-release/src/python_binding\")\n",
    "import pytglib as tgl"
   ]
  },
  {
   "cell_type": "code",
   "execution_count": 148,
   "id": "7eef1b58-aec8-4b51-956a-c010ba187947",
   "metadata": {},
   "outputs": [
    {
     "name": "stdout",
     "output_type": "stream",
     "text": [
      "The autoreload extension is already loaded. To reload it, use:\n",
      "  %reload_ext autoreload\n",
      "Set current dir to /workdir\n"
     ]
    }
   ],
   "source": [
    "%load_ext autoreload\n",
    "%autoreload 2\n",
    "\n",
    "#from brainiac1.metrics.graphs_eval.graph_gen_quality import GraphGenerationQuality\n",
    "\n",
    "import pyrootutils, os\n",
    "\n",
    "root = pyrootutils.setup_root(\n",
    "    search_from='.',\n",
    "    indicator=[\".git\"],\n",
    "    pythonpath=True,\n",
    "    dotenv=True,\n",
    ")\n",
    "os.chdir(root)\n",
    "print(f\"Set current dir to {root}\")"
   ]
  },
  {
   "cell_type": "code",
   "execution_count": 149,
   "id": "b15b0f1f-4496-41d5-93da-e72b1d34e8aa",
   "metadata": {},
   "outputs": [],
   "source": [
    "from src.brainiac_temporal.data.utils import convert_insecta_file_to_tglib_file"
   ]
  },
  {
   "cell_type": "markdown",
   "id": "247ccfd2-d378-429e-9f11-fac62803e2bf",
   "metadata": {},
   "source": [
    "convert_insecta_file_to_tglib_file function will convert the original dataset into a new file with the tglib format"
   ]
  },
  {
   "cell_type": "code",
   "execution_count": 150,
   "id": "2070c42f-e1f8-4093-8a3c-cb525719499b",
   "metadata": {},
   "outputs": [],
   "source": [
    "path_dataset = \"/workdir/insecta-ant-colony6.edges\"\n",
    "convert_insecta_file_to_tglib_file(path_dataset, opposite_edges=True)"
   ]
  },
  {
   "cell_type": "markdown",
   "id": "b86c963b-4432-47e0-b895-da2d5618382f",
   "metadata": {},
   "source": [
    "## How to use tglib to compute graph statistics on the Insecta statistics?"
   ]
  },
  {
   "cell_type": "markdown",
   "id": "6227ab80-730a-45f0-acb1-2be7820a2c3d",
   "metadata": {},
   "source": [
    "#### Load the temporal graph"
   ]
  },
  {
   "cell_type": "code",
   "execution_count": 151,
   "id": "c068d793-1613-4548-8e80-030d1a36c867",
   "metadata": {},
   "outputs": [],
   "source": [
    "path_dataset_tglib = path_dataset + \"-tglib\"\n",
    "temporal_graph = tgl.load_ordered_edge_list(path_dataset_tglib)"
   ]
  },
  {
   "cell_type": "markdown",
   "id": "437b15cd-926e-4970-bb6b-3be846994438",
   "metadata": {},
   "source": [
    "#### General graph stats"
   ]
  },
  {
   "cell_type": "code",
   "execution_count": 152,
   "id": "18da51e1-17d9-4c85-b010-9cb82b7696ef",
   "metadata": {},
   "outputs": [
    {
     "name": "stdout",
     "output_type": "stream",
     "text": [
      "number of nodes: 164\n",
      "number of edges: 494428\n",
      "number of static edges: 26386\n",
      "number of time stamps: 39\n",
      "number of transition times: 1\n",
      "min. time stamp: 1\n",
      "max. time stamp: 39\n",
      "min. transition time: 1\n",
      "max. transition time: 1\n",
      "min. temporal in-degree: 574\n",
      "max. temporal in-degree: 4529\n",
      "min. temporal out-degree: 574\n",
      "max. temporal out-degree: 4529\n"
     ]
    }
   ],
   "source": [
    "stats = tgl.get_statistics(temporal_graph)\n",
    "print(stats)"
   ]
  },
  {
   "cell_type": "markdown",
   "id": "36632956-95aa-466f-98c8-95915964d9b4",
   "metadata": {},
   "source": [
    "#### Temporal closeness centrality"
   ]
  },
  {
   "cell_type": "code",
   "execution_count": 153,
   "id": "bfcc4193-1db8-429a-9dcf-3fa73d5413ee",
   "metadata": {},
   "outputs": [],
   "source": [
    "import torch_geometric_temporal as tgt\n",
    "dataset_generated = tgt.ChickenpoxDatasetLoader().get_dataset(lags=3)"
   ]
  },
  {
   "cell_type": "code",
   "execution_count": 154,
   "id": "8a2e9277-5329-480c-8923-17c5ca1dc628",
   "metadata": {},
   "outputs": [],
   "source": [
    "closeness_fastest = tgl.temporal_closeness(temporal_graph, tgl.Distance_Type.Fastest)"
   ]
  },
  {
   "cell_type": "markdown",
   "id": "bf087fc6-0258-43e2-a0b5-1e02bb659d58",
   "metadata": {},
   "source": [
    "Temporal closeness cnetrality for each node"
   ]
  },
  {
   "cell_type": "code",
   "execution_count": 155,
   "id": "5586f161-7b8f-4017-b3fb-64c21615cf45",
   "metadata": {},
   "outputs": [
    {
     "data": {
      "text/plain": [
       "VectorDouble[163, 161.5, 162.5, 163, 163, 163, 163, 163, 163, 162, 163, 163, 161, 162, 162.5, 163, 163, 162, 163, 163, 162.5, 163, 163, 161.5, 162.5, 163, 162.5, 160, 163, 163, 163, 163, 163, 163, 163, 163, 163, 163, 163, 163, 163, 162.5, 163, 162, 160.5, 161.5, 163, 162.5, 161, 163, 161, 163, 162, 163, 162, 163, 163, 163, 147, 163, 163, 163, 162, 163, 163, 162.5, 163, 163, 163, 161.5, 163, 161, 163, 162, 163, 162.5, 162.5, 163, 163, 162.5, 163, 159.5, 162.5, 162.5, 162.5, 161.5, 163, 162, 163, 162.5, 163, 154, 163, 163, 163, 162, 163, 162.5, 162, 163, 160.5, 162.5, 162.5, 163, 162.5, 162.5, 163, 162.5, 161.5, 163, 163, 162.5, 163, 162.5, 163, 163, 163, 163, 163, 162, 163, 163, 163, 163, 163, 163, 161.5, 162, 160, 154, 161, 163, 163, 156, 163, 142, 163, 163, 163, 160.5, 162.5, 160, 161.5, 160.5, 161.5, 162.5, 161.5, 162.5, 162.5, 163, 162, 161, 159, 158.5, 161, 162, 160.5, 162, 162, 162.5, 161.5, 161.5, 159.5, 152]"
      ]
     },
     "execution_count": 155,
     "metadata": {},
     "output_type": "execute_result"
    }
   ],
   "source": [
    "closeness_fastest"
   ]
  },
  {
   "cell_type": "markdown",
   "id": "dc830028-6bb3-43c2-a889-a31bafbb7a28",
   "metadata": {},
   "source": [
    "#### Temporal clustering coefficient"
   ]
  },
  {
   "cell_type": "markdown",
   "id": "195a3a72-6e61-431b-a578-447b1efb7e6c",
   "metadata": {},
   "source": [
    "Temporal clustering coefficient for each node"
   ]
  },
  {
   "cell_type": "code",
   "execution_count": 146,
   "id": "7415bf32-2775-4606-99c0-9990f1b0bac8",
   "metadata": {},
   "outputs": [
    {
     "data": {
      "text/plain": [
       "VectorDouble[0.472261, 0.486611, 0.4769, 0.473404, 0.473319, 0.474294, 0.476989, 0.471827, 0.472103, 0.481442, 0.474849, 0.472033, 0.491054, 0.478317, 0.476851, 0.472783, 0.475432, 0.485756, 0.471738, 0.477184, 0.479134, 0.471657, 0.475236, 0.486365, 0.478279, 0.474331, 0.477925, 0.49755, 0.472653, 0.472758, 0.471748, 0.475269, 0.473074, 0.472033, 0.471561, 0.472721, 0.473235, 0.475209, 0.472398, 0.473874, 0.476071, 0.47867, 0.476042, 0.483276, 0.496578, 0.486319, 0.47302, 0.476084, 0.48966, 0.472464, 0.490889, 0.472461, 0.481609, 0.472513, 0.483807, 0.473138, 0.471486, 0.473692, 0.489661, 0.473783, 0.477384, 0.474175, 0.478414, 0.473243, 0.472802, 0.476725, 0.473164, 0.471956, 0.472917, 0.485708, 0.472709, 0.492875, 0.472635, 0.483811, 0.472589, 0.476837, 0.477091, 0.473851, 0.475648, 0.476149, 0.473004, 0.498144, 0.479826, 0.479909, 0.476853, 0.485359, 0.473131, 0.482382, 0.471309, 0.47877, 0.473542, 0.482457, 0.475113, 0.472717, 0.472274, 0.481416, 0.471633, 0.476519, 0.484014, 0.472795, 0.496821, 0.474979, 0.479728, 0.472701, 0.477195, 0.478747, 0.4747, 0.478078, 0.487696, 0.475273, 0.473117, 0.478774, 0.472263, 0.475349, 0.475558, 0.477617, 0.472909, 0.47582, 0.472165, 0.484359, 0.473191, 0.474952, 0.471672, 0.474003, 0.47281, 0.475749, 0.487544, 0.481846, 0.48425, 0.491549, 0.490356, 0.475799, 0.472342, 0.477764, 0.471455, 0.485346, 0.476069, 0.477182, 0.477335, 0.496917, 0.479562, 0.498725, 0.486333, 0.492544, 0.48519, 0.477864, 0.48598, 0.478015, 0.478941, 0.472488, 0.482939, 0.492166, 0.507177, 0.50418, 0.490831, 0.482549, 0.494378, 0.481575, 0.481751, 0.477744, 0.486581, 0.486405, 0.500668, 0.484166]"
      ]
     },
     "execution_count": 146,
     "metadata": {},
     "output_type": "execute_result"
    }
   ],
   "source": [
    "tg = tgl.to_incident_lists(temporal_graph)\n",
    "c = tgl.temporal_clustering_coefficient(tg, tg.getTimeInterval())\n",
    "c "
   ]
  },
  {
   "cell_type": "markdown",
   "id": "a3636b64-c7f2-4821-860a-7377c0ab800b",
   "metadata": {},
   "source": [
    "#### Temporal edge betweenness"
   ]
  },
  {
   "cell_type": "code",
   "execution_count": null,
   "id": "64c97bae-9b75-404c-bcb1-887aeaf79122",
   "metadata": {},
   "outputs": [],
   "source": [
    "tgl.temporal_edge_betweenness(temporal_graph)"
   ]
  },
  {
   "cell_type": "markdown",
   "id": "4bda3a76-614b-4ae4-a520-d39c71fcf227",
   "metadata": {},
   "source": [
    "#### Number of reachable nodes (set of influence)"
   ]
  },
  {
   "cell_type": "code",
   "execution_count": null,
   "id": "f73aeae6-6d4e-45c8-9fb5-fdbc41c49e72",
   "metadata": {},
   "outputs": [],
   "source": [
    "tgl.number_of_reachable_nodes(temporal_graph, 3, temporal_graph.getTimeInterval())"
   ]
  }
 ],
 "metadata": {
  "kernelspec": {
   "display_name": "Python 3 (ipykernel)",
   "language": "python",
   "name": "python3"
  },
  "language_info": {
   "codemirror_mode": {
    "name": "ipython",
    "version": 3
   },
   "file_extension": ".py",
   "mimetype": "text/x-python",
   "name": "python",
   "nbconvert_exporter": "python",
   "pygments_lexer": "ipython3",
   "version": "3.8.13"
  }
 },
 "nbformat": 4,
 "nbformat_minor": 5
}
