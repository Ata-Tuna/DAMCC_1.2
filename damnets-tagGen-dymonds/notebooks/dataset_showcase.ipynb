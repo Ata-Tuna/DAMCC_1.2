{
 "cells": [
  {
   "cell_type": "markdown",
   "metadata": {},
   "source": [
    "This notebook is a showcase of loading datasets and their statistics"
   ]
  },
  {
   "cell_type": "markdown",
   "metadata": {},
   "source": [
    "### Bitcoin dataset\n",
    "\n",
    "This dataset was used in [Tigger](https://github.com/data-iitd/tigger/tree/main/data/bitcoin) composed of a homogeneous financial transaction graph of bitcoin trading between users of\n",
    "bitcoin-alpha trading platform (Kumar et al. 2016)"
   ]
  },
  {
   "cell_type": "code",
   "execution_count": 159,
   "metadata": {},
   "outputs": [
    {
     "data": {
      "text/html": [
       "<div>\n",
       "<style scoped>\n",
       "    .dataframe tbody tr th:only-of-type {\n",
       "        vertical-align: middle;\n",
       "    }\n",
       "\n",
       "    .dataframe tbody tr th {\n",
       "        vertical-align: top;\n",
       "    }\n",
       "\n",
       "    .dataframe thead th {\n",
       "        text-align: right;\n",
       "    }\n",
       "</style>\n",
       "<table border=\"1\" class=\"dataframe\">\n",
       "  <thead>\n",
       "    <tr style=\"text-align: right;\">\n",
       "      <th></th>\n",
       "      <th>0</th>\n",
       "      <th>1</th>\n",
       "      <th>2</th>\n",
       "      <th>3</th>\n",
       "    </tr>\n",
       "  </thead>\n",
       "  <tbody>\n",
       "    <tr>\n",
       "      <th>0</th>\n",
       "      <td>NaN</td>\n",
       "      <td>start</td>\n",
       "      <td>end</td>\n",
       "      <td>days</td>\n",
       "    </tr>\n",
       "    <tr>\n",
       "      <th>1</th>\n",
       "      <td>0.0</td>\n",
       "      <td>0</td>\n",
       "      <td>398</td>\n",
       "      <td>137</td>\n",
       "    </tr>\n",
       "    <tr>\n",
       "      <th>2</th>\n",
       "      <td>1.0</td>\n",
       "      <td>1</td>\n",
       "      <td>398</td>\n",
       "      <td>102</td>\n",
       "    </tr>\n",
       "    <tr>\n",
       "      <th>3</th>\n",
       "      <td>2.0</td>\n",
       "      <td>2</td>\n",
       "      <td>398</td>\n",
       "      <td>94</td>\n",
       "    </tr>\n",
       "    <tr>\n",
       "      <th>4</th>\n",
       "      <td>3.0</td>\n",
       "      <td>3</td>\n",
       "      <td>398</td>\n",
       "      <td>71</td>\n",
       "    </tr>\n",
       "    <tr>\n",
       "      <th>...</th>\n",
       "      <td>...</td>\n",
       "      <td>...</td>\n",
       "      <td>...</td>\n",
       "      <td>...</td>\n",
       "    </tr>\n",
       "    <tr>\n",
       "      <th>24182</th>\n",
       "      <td>24181.0</td>\n",
       "      <td>1064</td>\n",
       "      <td>1061</td>\n",
       "      <td>87</td>\n",
       "    </tr>\n",
       "    <tr>\n",
       "      <th>24183</th>\n",
       "      <td>24182.0</td>\n",
       "      <td>1061</td>\n",
       "      <td>1064</td>\n",
       "      <td>87</td>\n",
       "    </tr>\n",
       "    <tr>\n",
       "      <th>24184</th>\n",
       "      <td>24183.0</td>\n",
       "      <td>1064</td>\n",
       "      <td>1060</td>\n",
       "      <td>87</td>\n",
       "    </tr>\n",
       "    <tr>\n",
       "      <th>24185</th>\n",
       "      <td>24184.0</td>\n",
       "      <td>1060</td>\n",
       "      <td>1064</td>\n",
       "      <td>87</td>\n",
       "    </tr>\n",
       "    <tr>\n",
       "      <th>24186</th>\n",
       "      <td>24185.0</td>\n",
       "      <td>1064</td>\n",
       "      <td>132</td>\n",
       "      <td>87</td>\n",
       "    </tr>\n",
       "  </tbody>\n",
       "</table>\n",
       "<p>24187 rows × 4 columns</p>\n",
       "</div>"
      ],
      "text/plain": [
       "             0      1     2     3\n",
       "0          NaN  start   end  days\n",
       "1          0.0      0   398   137\n",
       "2          1.0      1   398   102\n",
       "3          2.0      2   398    94\n",
       "4          3.0      3   398    71\n",
       "...        ...    ...   ...   ...\n",
       "24182  24181.0   1064  1061    87\n",
       "24183  24182.0   1061  1064    87\n",
       "24184  24183.0   1064  1060    87\n",
       "24185  24184.0   1060  1064    87\n",
       "24186  24185.0   1064   132    87\n",
       "\n",
       "[24187 rows x 4 columns]"
      ]
     },
     "execution_count": 159,
     "metadata": {},
     "output_type": "execute_result"
    }
   ],
   "source": [
    "#start by loading the data file\n",
    "import pandas as pd\n",
    "url= f\"https://raw.githubusercontent.com/data-iitd/tigger/main/data/bitcoin/data.csv\"\n",
    "# Load the CSV file into a DataFrame\n",
    "df = pd.read_csv(url, sep=',', header=None)\n",
    "df"
   ]
  },
  {
   "cell_type": "code",
   "execution_count": 160,
   "metadata": {},
   "outputs": [],
   "source": [
    "# Apply transofrmation for tglib\n",
    "df = df.iloc[:, 1:]"
   ]
  },
  {
   "cell_type": "code",
   "execution_count": 161,
   "metadata": {},
   "outputs": [
    {
     "data": {
      "text/html": [
       "<div>\n",
       "<style scoped>\n",
       "    .dataframe tbody tr th:only-of-type {\n",
       "        vertical-align: middle;\n",
       "    }\n",
       "\n",
       "    .dataframe tbody tr th {\n",
       "        vertical-align: top;\n",
       "    }\n",
       "\n",
       "    .dataframe thead th {\n",
       "        text-align: right;\n",
       "    }\n",
       "</style>\n",
       "<table border=\"1\" class=\"dataframe\">\n",
       "  <thead>\n",
       "    <tr style=\"text-align: right;\">\n",
       "      <th></th>\n",
       "      <th>1</th>\n",
       "      <th>2</th>\n",
       "      <th>3</th>\n",
       "    </tr>\n",
       "  </thead>\n",
       "  <tbody>\n",
       "    <tr>\n",
       "      <th>0</th>\n",
       "      <td>start</td>\n",
       "      <td>end</td>\n",
       "      <td>days</td>\n",
       "    </tr>\n",
       "    <tr>\n",
       "      <th>1</th>\n",
       "      <td>0</td>\n",
       "      <td>398</td>\n",
       "      <td>137</td>\n",
       "    </tr>\n",
       "    <tr>\n",
       "      <th>2</th>\n",
       "      <td>1</td>\n",
       "      <td>398</td>\n",
       "      <td>102</td>\n",
       "    </tr>\n",
       "    <tr>\n",
       "      <th>3</th>\n",
       "      <td>2</td>\n",
       "      <td>398</td>\n",
       "      <td>94</td>\n",
       "    </tr>\n",
       "    <tr>\n",
       "      <th>4</th>\n",
       "      <td>3</td>\n",
       "      <td>398</td>\n",
       "      <td>71</td>\n",
       "    </tr>\n",
       "    <tr>\n",
       "      <th>...</th>\n",
       "      <td>...</td>\n",
       "      <td>...</td>\n",
       "      <td>...</td>\n",
       "    </tr>\n",
       "    <tr>\n",
       "      <th>24182</th>\n",
       "      <td>1064</td>\n",
       "      <td>1061</td>\n",
       "      <td>87</td>\n",
       "    </tr>\n",
       "    <tr>\n",
       "      <th>24183</th>\n",
       "      <td>1061</td>\n",
       "      <td>1064</td>\n",
       "      <td>87</td>\n",
       "    </tr>\n",
       "    <tr>\n",
       "      <th>24184</th>\n",
       "      <td>1064</td>\n",
       "      <td>1060</td>\n",
       "      <td>87</td>\n",
       "    </tr>\n",
       "    <tr>\n",
       "      <th>24185</th>\n",
       "      <td>1060</td>\n",
       "      <td>1064</td>\n",
       "      <td>87</td>\n",
       "    </tr>\n",
       "    <tr>\n",
       "      <th>24186</th>\n",
       "      <td>1064</td>\n",
       "      <td>132</td>\n",
       "      <td>87</td>\n",
       "    </tr>\n",
       "  </tbody>\n",
       "</table>\n",
       "<p>24187 rows × 3 columns</p>\n",
       "</div>"
      ],
      "text/plain": [
       "           1     2     3\n",
       "0      start   end  days\n",
       "1          0   398   137\n",
       "2          1   398   102\n",
       "3          2   398    94\n",
       "4          3   398    71\n",
       "...      ...   ...   ...\n",
       "24182   1064  1061    87\n",
       "24183   1061  1064    87\n",
       "24184   1064  1060    87\n",
       "24185   1060  1064    87\n",
       "24186   1064   132    87\n",
       "\n",
       "[24187 rows x 3 columns]"
      ]
     },
     "execution_count": 161,
     "metadata": {},
     "output_type": "execute_result"
    }
   ],
   "source": [
    "df"
   ]
  },
  {
   "cell_type": "code",
   "execution_count": 162,
   "metadata": {},
   "outputs": [
    {
     "data": {
      "text/html": [
       "<div>\n",
       "<style scoped>\n",
       "    .dataframe tbody tr th:only-of-type {\n",
       "        vertical-align: middle;\n",
       "    }\n",
       "\n",
       "    .dataframe tbody tr th {\n",
       "        vertical-align: top;\n",
       "    }\n",
       "\n",
       "    .dataframe thead th {\n",
       "        text-align: right;\n",
       "    }\n",
       "</style>\n",
       "<table border=\"1\" class=\"dataframe\">\n",
       "  <thead>\n",
       "    <tr style=\"text-align: right;\">\n",
       "      <th></th>\n",
       "      <th>1</th>\n",
       "      <th>2</th>\n",
       "      <th>3</th>\n",
       "    </tr>\n",
       "  </thead>\n",
       "  <tbody>\n",
       "    <tr>\n",
       "      <th>1</th>\n",
       "      <td>0</td>\n",
       "      <td>398</td>\n",
       "      <td>137</td>\n",
       "    </tr>\n",
       "    <tr>\n",
       "      <th>2</th>\n",
       "      <td>1</td>\n",
       "      <td>398</td>\n",
       "      <td>102</td>\n",
       "    </tr>\n",
       "    <tr>\n",
       "      <th>3</th>\n",
       "      <td>2</td>\n",
       "      <td>398</td>\n",
       "      <td>94</td>\n",
       "    </tr>\n",
       "    <tr>\n",
       "      <th>4</th>\n",
       "      <td>3</td>\n",
       "      <td>398</td>\n",
       "      <td>71</td>\n",
       "    </tr>\n",
       "    <tr>\n",
       "      <th>5</th>\n",
       "      <td>4</td>\n",
       "      <td>398</td>\n",
       "      <td>68</td>\n",
       "    </tr>\n",
       "    <tr>\n",
       "      <th>...</th>\n",
       "      <td>...</td>\n",
       "      <td>...</td>\n",
       "      <td>...</td>\n",
       "    </tr>\n",
       "    <tr>\n",
       "      <th>24182</th>\n",
       "      <td>1064</td>\n",
       "      <td>1061</td>\n",
       "      <td>87</td>\n",
       "    </tr>\n",
       "    <tr>\n",
       "      <th>24183</th>\n",
       "      <td>1061</td>\n",
       "      <td>1064</td>\n",
       "      <td>87</td>\n",
       "    </tr>\n",
       "    <tr>\n",
       "      <th>24184</th>\n",
       "      <td>1064</td>\n",
       "      <td>1060</td>\n",
       "      <td>87</td>\n",
       "    </tr>\n",
       "    <tr>\n",
       "      <th>24185</th>\n",
       "      <td>1060</td>\n",
       "      <td>1064</td>\n",
       "      <td>87</td>\n",
       "    </tr>\n",
       "    <tr>\n",
       "      <th>24186</th>\n",
       "      <td>1064</td>\n",
       "      <td>132</td>\n",
       "      <td>87</td>\n",
       "    </tr>\n",
       "  </tbody>\n",
       "</table>\n",
       "<p>24186 rows × 3 columns</p>\n",
       "</div>"
      ],
      "text/plain": [
       "          1     2    3\n",
       "1         0   398  137\n",
       "2         1   398  102\n",
       "3         2   398   94\n",
       "4         3   398   71\n",
       "5         4   398   68\n",
       "...     ...   ...  ...\n",
       "24182  1064  1061   87\n",
       "24183  1061  1064   87\n",
       "24184  1064  1060   87\n",
       "24185  1060  1064   87\n",
       "24186  1064   132   87\n",
       "\n",
       "[24186 rows x 3 columns]"
      ]
     },
     "execution_count": 162,
     "metadata": {},
     "output_type": "execute_result"
    }
   ],
   "source": [
    "df = df.drop(0)\n",
    "df"
   ]
  },
  {
   "cell_type": "code",
   "execution_count": 163,
   "metadata": {},
   "outputs": [],
   "source": [
    "import os\n",
    "path_dataset = os.getcwd()\n",
    "path_dataset_tglib = path_dataset + \"-tglib\"\n",
    "df.to_csv(path_dataset_tglib, sep=' ', index=False, header=False)"
   ]
  },
  {
   "cell_type": "markdown",
   "metadata": {},
   "source": [
    "**How to install the tglib package?**\n",
    "\n",
    "You need to download and compile tglib before running this notebook\n",
    "\n",
    "- git clone --recurse-submodules https://gitlab.com/tgpublic/tglib.gitcd \n",
    "\n",
    "- tglib/tglib_cppmkdir build-release\n",
    "\n",
    "- cd build-release\n",
    "\n",
    "- cmake .. -DCMAKE_BUILD_TYPE=Release\n",
    "\n",
    "- make"
   ]
  },
  {
   "cell_type": "code",
   "execution_count": 164,
   "metadata": {},
   "outputs": [],
   "source": [
    "import sys\n",
    "sys.path.append(\"/home/houssem.souid/tglib/tglib_cpp/build-release/src/python_binding\")"
   ]
  },
  {
   "cell_type": "code",
   "execution_count": 165,
   "metadata": {},
   "outputs": [],
   "source": [
    "temporal_graph = tgl.load_ordered_edge_list(path_dataset_tglib)"
   ]
  },
  {
   "cell_type": "code",
   "execution_count": 166,
   "metadata": {},
   "outputs": [
    {
     "name": "stdout",
     "output_type": "stream",
     "text": [
      "number of nodes: 3783\n",
      "number of edges: 24186\n",
      "number of static edges: 24186\n",
      "number of time stamps: 190\n",
      "number of transition times: 1\n",
      "min. time stamp: 1\n",
      "max. time stamp: 191\n",
      "min. transition time: 1\n",
      "max. transition time: 1\n",
      "min. temporal in-degree: 0\n",
      "max. temporal in-degree: 398\n",
      "min. temporal out-degree: 0\n",
      "max. temporal out-degree: 490\n"
     ]
    }
   ],
   "source": [
    "stats = tgl.get_statistics(temporal_graph)\n",
    "print(stats)"
   ]
  },
  {
   "cell_type": "markdown",
   "metadata": {},
   "source": [
    "## Reddit dataset"
   ]
  },
  {
   "cell_type": "markdown",
   "metadata": {},
   "source": [
    "This dataset was used in [Tigger](https://github.com/data-iitd/tigger/tree/main/data/CAW_data) composed of a bipartite graph of users’ post on subreddits (Leskovec and Krevl 2014)"
   ]
  },
  {
   "cell_type": "code",
   "execution_count": 167,
   "metadata": {},
   "outputs": [
    {
     "name": "stderr",
     "output_type": "stream",
     "text": [
      "/tmp/ipykernel_44388/1819410690.py:5: DtypeWarning: Columns (0,1,2) have mixed types. Specify dtype option on import or set low_memory=False.\n",
      "  df = pd.read_csv(url, sep=',', header=None)\n"
     ]
    },
    {
     "data": {
      "text/html": [
       "<div>\n",
       "<style scoped>\n",
       "    .dataframe tbody tr th:only-of-type {\n",
       "        vertical-align: middle;\n",
       "    }\n",
       "\n",
       "    .dataframe tbody tr th {\n",
       "        vertical-align: top;\n",
       "    }\n",
       "\n",
       "    .dataframe thead th {\n",
       "        text-align: right;\n",
       "    }\n",
       "</style>\n",
       "<table border=\"1\" class=\"dataframe\">\n",
       "  <thead>\n",
       "    <tr style=\"text-align: right;\">\n",
       "      <th></th>\n",
       "      <th>0</th>\n",
       "      <th>1</th>\n",
       "      <th>2</th>\n",
       "    </tr>\n",
       "  </thead>\n",
       "  <tbody>\n",
       "    <tr>\n",
       "      <th>0</th>\n",
       "      <td>start</td>\n",
       "      <td>end</td>\n",
       "      <td>days</td>\n",
       "    </tr>\n",
       "    <tr>\n",
       "      <th>1</th>\n",
       "      <td>1</td>\n",
       "      <td>10001</td>\n",
       "      <td>1</td>\n",
       "    </tr>\n",
       "    <tr>\n",
       "      <th>2</th>\n",
       "      <td>2</td>\n",
       "      <td>10002</td>\n",
       "      <td>7</td>\n",
       "    </tr>\n",
       "    <tr>\n",
       "      <th>3</th>\n",
       "      <td>3</td>\n",
       "      <td>10003</td>\n",
       "      <td>8</td>\n",
       "    </tr>\n",
       "    <tr>\n",
       "      <th>4</th>\n",
       "      <td>4</td>\n",
       "      <td>10003</td>\n",
       "      <td>14</td>\n",
       "    </tr>\n",
       "    <tr>\n",
       "      <th>...</th>\n",
       "      <td>...</td>\n",
       "      <td>...</td>\n",
       "      <td>...</td>\n",
       "    </tr>\n",
       "    <tr>\n",
       "      <th>671335</th>\n",
       "      <td>124</td>\n",
       "      <td>10026</td>\n",
       "      <td>2678366</td>\n",
       "    </tr>\n",
       "    <tr>\n",
       "      <th>671336</th>\n",
       "      <td>4557</td>\n",
       "      <td>10007</td>\n",
       "      <td>2678372</td>\n",
       "    </tr>\n",
       "    <tr>\n",
       "      <th>671337</th>\n",
       "      <td>1072</td>\n",
       "      <td>10130</td>\n",
       "      <td>2678379</td>\n",
       "    </tr>\n",
       "    <tr>\n",
       "      <th>671338</th>\n",
       "      <td>11</td>\n",
       "      <td>10009</td>\n",
       "      <td>2678390</td>\n",
       "    </tr>\n",
       "    <tr>\n",
       "      <th>671339</th>\n",
       "      <td>3688</td>\n",
       "      <td>10120</td>\n",
       "      <td>2678391</td>\n",
       "    </tr>\n",
       "  </tbody>\n",
       "</table>\n",
       "<p>671340 rows × 3 columns</p>\n",
       "</div>"
      ],
      "text/plain": [
       "            0      1        2\n",
       "0       start    end     days\n",
       "1           1  10001        1\n",
       "2           2  10002        7\n",
       "3           3  10003        8\n",
       "4           4  10003       14\n",
       "...       ...    ...      ...\n",
       "671335    124  10026  2678366\n",
       "671336   4557  10007  2678372\n",
       "671337   1072  10130  2678379\n",
       "671338     11  10009  2678390\n",
       "671339   3688  10120  2678391\n",
       "\n",
       "[671340 rows x 3 columns]"
      ]
     },
     "execution_count": 167,
     "metadata": {},
     "output_type": "execute_result"
    }
   ],
   "source": [
    "#start by loading the data file\n",
    "import pandas as pd\n",
    "url = \"https://raw.githubusercontent.com/data-iitd/tigger/main/data/CAW_data/reddit_processed.csv\"\n",
    "# Load the CSV file into a DataFrame\n",
    "df = pd.read_csv(url, sep=',', header=None)\n",
    "df"
   ]
  },
  {
   "cell_type": "code",
   "execution_count": 168,
   "metadata": {},
   "outputs": [],
   "source": [
    "# Apply transofrmation for tglib\n",
    "df = df.drop(0)\n",
    "path_dataset = os.getcwd()\n",
    "path_dataset_tglib = path_dataset + \"-tglib\"\n",
    "df.to_csv(path_dataset_tglib, sep=' ', index=False, header=False)"
   ]
  },
  {
   "cell_type": "code",
   "execution_count": 169,
   "metadata": {},
   "outputs": [
    {
     "name": "stdout",
     "output_type": "stream",
     "text": [
      "number of nodes: 10984\n",
      "number of edges: 671339\n",
      "number of static edges: 78516\n",
      "number of time stamps: 588915\n",
      "number of transition times: 1\n",
      "min. time stamp: 1\n",
      "max. time stamp: 2678391\n",
      "min. transition time: 1\n",
      "max. transition time: 1\n",
      "min. temporal in-degree: 0\n",
      "max. temporal in-degree: 58725\n",
      "min. temporal out-degree: 0\n",
      "max. temporal out-degree: 4690\n"
     ]
    }
   ],
   "source": [
    "temporal_graph = tgl.load_ordered_edge_list(path_dataset_tglib)\n",
    "stats = tgl.get_statistics(temporal_graph)\n",
    "print(stats)"
   ]
  },
  {
   "cell_type": "markdown",
   "metadata": {},
   "source": [
    "## Wiki-small dataset"
   ]
  },
  {
   "cell_type": "markdown",
   "metadata": {},
   "source": [
    "\n",
    "This dataset was used in [Tigger](https://github.com/data-iitd/tigger/tree/main/data/CAW_data) contains a a bipartite graph between human editors and Wikipedia pages for 50 hours (Leskovec and Krevl 2014)"
   ]
  },
  {
   "cell_type": "code",
   "execution_count": 170,
   "metadata": {},
   "outputs": [
    {
     "data": {
      "text/html": [
       "<div>\n",
       "<style scoped>\n",
       "    .dataframe tbody tr th:only-of-type {\n",
       "        vertical-align: middle;\n",
       "    }\n",
       "\n",
       "    .dataframe tbody tr th {\n",
       "        vertical-align: top;\n",
       "    }\n",
       "\n",
       "    .dataframe thead th {\n",
       "        text-align: right;\n",
       "    }\n",
       "</style>\n",
       "<table border=\"1\" class=\"dataframe\">\n",
       "  <thead>\n",
       "    <tr style=\"text-align: right;\">\n",
       "      <th></th>\n",
       "      <th>0</th>\n",
       "      <th>1</th>\n",
       "      <th>2</th>\n",
       "      <th>3</th>\n",
       "    </tr>\n",
       "  </thead>\n",
       "  <tbody>\n",
       "    <tr>\n",
       "      <th>0</th>\n",
       "      <td>NaN</td>\n",
       "      <td>start</td>\n",
       "      <td>end</td>\n",
       "      <td>days</td>\n",
       "    </tr>\n",
       "    <tr>\n",
       "      <th>1</th>\n",
       "      <td>0.0</td>\n",
       "      <td>0</td>\n",
       "      <td>1125</td>\n",
       "      <td>1</td>\n",
       "    </tr>\n",
       "    <tr>\n",
       "      <th>2</th>\n",
       "      <td>1.0</td>\n",
       "      <td>1</td>\n",
       "      <td>1126</td>\n",
       "      <td>1</td>\n",
       "    </tr>\n",
       "    <tr>\n",
       "      <th>3</th>\n",
       "      <td>2.0</td>\n",
       "      <td>2</td>\n",
       "      <td>1127</td>\n",
       "      <td>1</td>\n",
       "    </tr>\n",
       "    <tr>\n",
       "      <th>4</th>\n",
       "      <td>3.0</td>\n",
       "      <td>3</td>\n",
       "      <td>1128</td>\n",
       "      <td>1</td>\n",
       "    </tr>\n",
       "    <tr>\n",
       "      <th>...</th>\n",
       "      <td>...</td>\n",
       "      <td>...</td>\n",
       "      <td>...</td>\n",
       "      <td>...</td>\n",
       "    </tr>\n",
       "    <tr>\n",
       "      <th>2976</th>\n",
       "      <td>2975.0</td>\n",
       "      <td>373</td>\n",
       "      <td>1372</td>\n",
       "      <td>50</td>\n",
       "    </tr>\n",
       "    <tr>\n",
       "      <th>2977</th>\n",
       "      <td>2976.0</td>\n",
       "      <td>30</td>\n",
       "      <td>1152</td>\n",
       "      <td>50</td>\n",
       "    </tr>\n",
       "    <tr>\n",
       "      <th>2978</th>\n",
       "      <td>2977.0</td>\n",
       "      <td>727</td>\n",
       "      <td>1437</td>\n",
       "      <td>50</td>\n",
       "    </tr>\n",
       "    <tr>\n",
       "      <th>2979</th>\n",
       "      <td>2978.0</td>\n",
       "      <td>632</td>\n",
       "      <td>1475</td>\n",
       "      <td>50</td>\n",
       "    </tr>\n",
       "    <tr>\n",
       "      <th>2980</th>\n",
       "      <td>2979.0</td>\n",
       "      <td>494</td>\n",
       "      <td>1356</td>\n",
       "      <td>50</td>\n",
       "    </tr>\n",
       "  </tbody>\n",
       "</table>\n",
       "<p>2981 rows × 4 columns</p>\n",
       "</div>"
      ],
      "text/plain": [
       "           0      1     2     3\n",
       "0        NaN  start   end  days\n",
       "1        0.0      0  1125     1\n",
       "2        1.0      1  1126     1\n",
       "3        2.0      2  1127     1\n",
       "4        3.0      3  1128     1\n",
       "...      ...    ...   ...   ...\n",
       "2976  2975.0    373  1372    50\n",
       "2977  2976.0     30  1152    50\n",
       "2978  2977.0    727  1437    50\n",
       "2979  2978.0    632  1475    50\n",
       "2980  2979.0    494  1356    50\n",
       "\n",
       "[2981 rows x 4 columns]"
      ]
     },
     "execution_count": 170,
     "metadata": {},
     "output_type": "execute_result"
    }
   ],
   "source": [
    "#start by loading the data file\n",
    "import pandas as pd\n",
    "url= \"https://github.com/data-iitd/tigger/raw/main/data/CAW_data/wiki_744_50.csv\"\n",
    "# Load the CSV file into a DataFrame\n",
    "df = pd.read_csv(url, sep=',', header=None)\n",
    "df"
   ]
  },
  {
   "cell_type": "code",
   "execution_count": 171,
   "metadata": {},
   "outputs": [],
   "source": [
    "# Apply transofrmation for tglib\n",
    "df = df.drop(0, axis=1)\n",
    "df = df.drop(0)\n",
    "path_dataset = os.getcwd()\n",
    "path_dataset_tglib = path_dataset + \"-tglib\"\n",
    "df.to_csv(path_dataset_tglib, sep=' ', index=False, header=False)"
   ]
  },
  {
   "cell_type": "code",
   "execution_count": 172,
   "metadata": {},
   "outputs": [
    {
     "name": "stdout",
     "output_type": "stream",
     "text": [
      "number of nodes: 1616\n",
      "number of edges: 2980\n",
      "number of static edges: 1575\n",
      "number of time stamps: 50\n",
      "number of transition times: 1\n",
      "min. time stamp: 1\n",
      "max. time stamp: 50\n",
      "min. transition time: 1\n",
      "max. transition time: 1\n",
      "min. temporal in-degree: 0\n",
      "max. temporal in-degree: 74\n",
      "min. temporal out-degree: 0\n",
      "max. temporal out-degree: 34\n"
     ]
    }
   ],
   "source": [
    "temporal_graph = tgl.load_ordered_edge_list(path_dataset_tglib)\n",
    "stats = tgl.get_statistics(temporal_graph)\n",
    "print(stats)"
   ]
  },
  {
   "cell_type": "markdown",
   "metadata": {},
   "source": [
    "### IMDB dynamic"
   ]
  },
  {
   "cell_type": "markdown",
   "metadata": {},
   "source": [
    "This [dataset](https://networkrepository.com/imdb.php) contains movies and actors as nodes and the edge represents the collaboration of an actor in a movie/with another actor and the timestamp is the year of collaboration."
   ]
  },
  {
   "cell_type": "code",
   "execution_count": 173,
   "metadata": {},
   "outputs": [],
   "source": [
    "#tranformation functions\n",
    "def transform_line(line: str) -> str:\n",
    "    \"\"\"transforms a single line from dataset:\n",
    "    deleted the third column\n",
    "\n",
    "    Args:\n",
    "        line (string): line from dataset file\n",
    "\n",
    "    Returns:\n",
    "        str : new line without the third column\n",
    "    \"\"\"\n",
    "    s_line = line.split(\",\")\n",
    "    return ' '.join(s_line[:2] + s_line[-1:])\n",
    "\n",
    "def add_opposite_edges(line: str) -> str:\n",
    "    \"\"\"transforms the edge in the opposite direction\n",
    "\n",
    "    Args:\n",
    "        line (string): line from dataset file\n",
    "\n",
    "    Returns:\n",
    "        str : new ledge in the direction\n",
    "    \"\"\"\n",
    "    s_line = line.split(\",\")\n",
    "    return ' '.join(s_line[:2][::-1] + s_line[-1:])\n",
    "\n",
    "\n",
    "def convert_data_file_to_tglib_file(\n",
    "        path: str,\n",
    "        opposite_edges:bool=True\n",
    "):\n",
    "    \"\"\"converts the dataset in the tglib format\n",
    "\n",
    "    Args:\n",
    "        path (string): line from dataset file\n",
    "        opposite_edges (bool): add the edges in the opposite direction\n",
    "    \"\"\"\n",
    "    with open(path, 'r') as file:\n",
    "        string_list = file.readlines()\n",
    "\n",
    "    # remove last column and switch column 3 with column 4\n",
    "    transformed_data = list(map(transform_line, string_list))\n",
    "\n",
    "    data = transformed_data\n",
    "    if opposite_edges:\n",
    "        opposite_edges_list = list(map(add_opposite_edges, string_list))\n",
    "        data = data + opposite_edges_list\n",
    "\n",
    "    new_path = path + \"-tglib\"\n",
    "    with open(new_path , \"w\") as file_out:\n",
    "        new_file_contents = \" \".join(data)\n",
    "        file_out.write(new_file_contents)\n",
    "        \n",
    "    file_out.close()\n"
   ]
  },
  {
   "cell_type": "code",
   "execution_count": 174,
   "metadata": {},
   "outputs": [],
   "source": [
    "import os\n",
    "import tempfile\n",
    "import urllib.request\n",
    "import zipfile\n",
    "import sys\n",
    "sys.path.append(\"/home/houssem.souid/tglib/tglib_cpp/build-release/src/python_binding\")\n",
    "import pytglib as tgl\n",
    "\n",
    "with tempfile.TemporaryDirectory() as tmpdirname:\n",
    "       \n",
    "        url = f\"https://nrvis.com/download/data/dynamic/imdb.zip\"\n",
    "\n",
    "        urllib.request.urlretrieve(\n",
    "            url, os.path.join(tmpdirname, f\"imdb.zip\")\n",
    "        )\n",
    "\n",
    "        # unzip it\n",
    "        with zipfile.ZipFile(\n",
    "            os.path.join(tmpdirname, f\"imdb.zip\"), \"r\"\n",
    "        ) as zip_ref:\n",
    "            zip_ref.extractall(tmpdirname)\n",
    "\n",
    "        # Load the file\n",
    "        path_dataset = os.path.join(tmpdirname, f\"imdb.edges\")\n",
    "        convert_data_file_to_tglib_file(path_dataset, opposite_edges=True)\n",
    "        path_dataset_tglib = path_dataset + \"-tglib\"\n",
    "        temporal_graph = tgl.load_ordered_edge_list(path_dataset_tglib)"
   ]
  },
  {
   "cell_type": "code",
   "execution_count": 175,
   "metadata": {},
   "outputs": [
    {
     "name": "stdout",
     "output_type": "stream",
     "text": [
      "number of nodes: 150545\n",
      "number of edges: 592375\n",
      "number of static edges: 591457\n",
      "number of time stamps: 28\n",
      "number of transition times: 2\n",
      "min. time stamp: 1980\n",
      "max. time stamp: 2007\n",
      "min. transition time: 1\n",
      "max. transition time: 137025\n",
      "min. temporal in-degree: 1\n",
      "max. temporal in-degree: 435\n",
      "min. temporal out-degree: 1\n",
      "max. temporal out-degree: 435\n"
     ]
    }
   ],
   "source": [
    "stats = tgl.get_statistics(temporal_graph)\n",
    "print(stats)"
   ]
  },
  {
   "cell_type": "markdown",
   "metadata": {},
   "source": [
    "##  Twitter\n",
    "\n",
    "[Twitter mention graphs](https://pytorch-geometric-temporal.readthedocs.io/en/latest/_modules/torch_geometric_temporal/dataset/twitter_tennis.html) related to major tennis tournaments from 2017. The nodes are Twitter accounts and edges are mentions between them. Each snapshot contains the graph induced by the most popular nodes of the original dataset. Node labels encode the number of mentions received in the original dataset for the next snapshot."
   ]
  },
  {
   "cell_type": "code",
   "execution_count": 176,
   "metadata": {},
   "outputs": [],
   "source": [
    "from torch_geometric_temporal.dataset import TwitterTennisDatasetLoader\n",
    "data = TwitterTennisDatasetLoader()\n",
    "dataset = data.get_dataset()"
   ]
  },
  {
   "cell_type": "code",
   "execution_count": 177,
   "metadata": {},
   "outputs": [
    {
     "data": {
      "text/plain": [
       "1000"
      ]
     },
     "execution_count": 177,
     "metadata": {},
     "output_type": "execute_result"
    }
   ],
   "source": [
    "len(dataset.features[0])"
   ]
  },
  {
   "cell_type": "code",
   "execution_count": 178,
   "metadata": {},
   "outputs": [
    {
     "data": {
      "text/plain": [
       "120"
      ]
     },
     "execution_count": 178,
     "metadata": {},
     "output_type": "execute_result"
    }
   ],
   "source": [
    "dataset.snapshot_count"
   ]
  },
  {
   "cell_type": "code",
   "execution_count": 179,
   "metadata": {},
   "outputs": [],
   "source": [
    "import numpy as np \n",
    "concatenated_edge_indices = np.concatenate(dataset.edge_indices , axis=1)\n",
    "# Find unique values in the concatenated array\n",
    "connected_nodes = np.unique(concatenated_edge_indices)"
   ]
  },
  {
   "cell_type": "code",
   "execution_count": 180,
   "metadata": {},
   "outputs": [
    {
     "data": {
      "text/plain": [
       "995"
      ]
     },
     "execution_count": 180,
     "metadata": {},
     "output_type": "execute_result"
    }
   ],
   "source": [
    "len(connected_nodes)"
   ]
  }
 ],
 "metadata": {
  "kernelspec": {
   "display_name": "tgb_trial",
   "language": "python",
   "name": "python3"
  },
  "language_info": {
   "codemirror_mode": {
    "name": "ipython",
    "version": 3
   },
   "file_extension": ".py",
   "mimetype": "text/x-python",
   "name": "python",
   "nbconvert_exporter": "python",
   "pygments_lexer": "ipython3",
   "version": "3.10.13"
  },
  "orig_nbformat": 4
 },
 "nbformat": 4,
 "nbformat_minor": 2
}
