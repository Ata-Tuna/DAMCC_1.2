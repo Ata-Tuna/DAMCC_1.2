{
 "cells": [
  {
   "cell_type": "markdown",
   "metadata": {},
   "source": [
    "### TGB library installation "
   ]
  },
  {
   "cell_type": "markdown",
   "metadata": {},
   "source": [
    "First creat a pytion environment using pyenv or venv \\\n",
    "Install TGB library using pip by running *pip install py-tgb* \\\n",
    "Add the following dependecies: \\\n",
    "*pytorch == 2.0.0* \\\n",
    "*torch-geometric == 2.3.0* \\\n",
    "*torch-scatter==2.1.1* \\\n",
    "*torch-sparse==0.6.17* \\\n",
    "*torch-spline-conv==1.2.2* \\\n",
    "*pandas==1.5.3* \\\n",
    "*clint==0.5.1* \n",
    "\n"
   ]
  },
  {
   "cell_type": "markdown",
   "metadata": {},
   "source": []
  },
  {
   "cell_type": "code",
   "execution_count": 1,
   "metadata": {},
   "outputs": [
    {
     "name": "stderr",
     "output_type": "stream",
     "text": [
      "/home/houssem.souid/.pyenv/versions/3.10.13/envs/tgb_trial/lib/python3.10/site-packages/torch/cuda/__init__.py:107: UserWarning: CUDA initialization: CUDA unknown error - this may be due to an incorrectly set up environment, e.g. changing env variable CUDA_VISIBLE_DEVICES after program start. Setting the available devices to be zero. (Triggered internally at ../c10/cuda/CUDAFunctions.cpp:109.)\n",
      "  return torch._C._cuda_getDeviceCount() > 0\n"
     ]
    }
   ],
   "source": [
    "from tgb.linkproppred.dataset_pyg import PyGLinkPropPredDataset\n",
    "from tgb.nodeproppred.dataset_pyg import PyGNodePropPredDataset"
   ]
  },
  {
   "cell_type": "code",
   "execution_count": 2,
   "metadata": {},
   "outputs": [],
   "source": [
    "name = \"tgbl-wiki\""
   ]
  },
  {
   "cell_type": "code",
   "execution_count": 3,
   "metadata": {},
   "outputs": [
    {
     "name": "stdout",
     "output_type": "stream",
     "text": [
      "raw file found, skipping download\n",
      "Dataset directory is  /home/houssem.souid/tgb_trial/TGB-main/tgb/datasets/tgbl_wiki\n",
      "loading processed file\n"
     ]
    }
   ],
   "source": [
    "tgbl_wiki = PyGLinkPropPredDataset(name=name, root=\"datasets\")"
   ]
  },
  {
   "cell_type": "code",
   "execution_count": 4,
   "metadata": {},
   "outputs": [
    {
     "data": {
      "text/plain": [
       "tgb.linkproppred.dataset_pyg.PyGLinkPropPredDataset"
      ]
     },
     "execution_count": 4,
     "metadata": {},
     "output_type": "execute_result"
    }
   ],
   "source": [
    "type(tgbl_wiki)"
   ]
  },
  {
   "cell_type": "markdown",
   "metadata": {},
   "source": [
    "Accessing the train, test, val split"
   ]
  },
  {
   "cell_type": "code",
   "execution_count": 95,
   "metadata": {},
   "outputs": [],
   "source": [
    "train_mask = tgbl_wiki.train_mask\n",
    "val_mask = tgbl_wiki.val_mask\n",
    "test_mask = tgbl_wiki.test_mask\n"
   ]
  },
  {
   "cell_type": "markdown",
   "metadata": {},
   "source": [
    "### Run experiment using TGN for link prediction"
   ]
  },
  {
   "cell_type": "markdown",
   "metadata": {},
   "source": [
    "Before running the experiments you need to clone the [repository]{https://github.com/shenyangHuang/TGB/tree/main} and install the project"
   ]
  },
  {
   "cell_type": "code",
   "execution_count": 96,
   "metadata": {},
   "outputs": [
    {
     "name": "stdout",
     "output_type": "stream",
     "text": [
      "python: can't open file '/home/houssem.souid/brainiac-1-temporal/notebooks/examples/linkproppred/tgbl-wiki/tgn.py': [Errno 2] No such file or directory\n"
     ]
    }
   ],
   "source": [
    "!python examples/linkproppred/tgbl-wiki/tgn.py --data \"tgbl-wiki\" --num_run 1 --num_epoch 5 --seed 1"
   ]
  },
  {
   "cell_type": "markdown",
   "metadata": {},
   "source": [
    "### Getting pyg temporal data object from tgb\n",
    "\n",
    "\n",
    "The library returns a torch_geometric.data.temporal.TemporalData [type](https://pytorch-geometric.readthedocs.io/en/latest/_modules/torch_geometric/data/temporal.html) object using *get_TemporalData()*  method.\n",
    "\n"
   ]
  },
  {
   "cell_type": "code",
   "execution_count": 5,
   "metadata": {},
   "outputs": [],
   "source": [
    "temporal_data = tgbl_wiki.get_TemporalData()"
   ]
  },
  {
   "cell_type": "code",
   "execution_count": 6,
   "metadata": {},
   "outputs": [
    {
     "data": {
      "text/plain": [
       "torch_geometric.data.temporal.TemporalData"
      ]
     },
     "execution_count": 6,
     "metadata": {},
     "output_type": "execute_result"
    }
   ],
   "source": [
    "type(temporal_data)"
   ]
  },
  {
   "cell_type": "code",
   "execution_count": 7,
   "metadata": {},
   "outputs": [
    {
     "data": {
      "text/plain": [
       "tgb.linkproppred.dataset_pyg.PyGLinkPropPredDataset"
      ]
     },
     "execution_count": 7,
     "metadata": {},
     "output_type": "execute_result"
    }
   ],
   "source": [
    "type(tgbl_wiki)"
   ]
  },
  {
   "cell_type": "markdown",
   "metadata": {},
   "source": [
    "Check node features"
   ]
  },
  {
   "cell_type": "code",
   "execution_count": 8,
   "metadata": {},
   "outputs": [
    {
     "data": {
      "text/plain": [
       "True"
      ]
     },
     "execution_count": 8,
     "metadata": {},
     "output_type": "execute_result"
    }
   ],
   "source": [
    "tgbl_wiki.node_feat is None"
   ]
  },
  {
   "cell_type": "code",
   "execution_count": 9,
   "metadata": {},
   "outputs": [
    {
     "name": "stdout",
     "output_type": "stream",
     "text": [
      "raw file found, skipping download\n",
      "Dataset directory is  /home/houssem.souid/tgb_trial/TGB-main/tgb/datasets/tgbl_flight\n",
      "loading processed file\n"
     ]
    }
   ],
   "source": [
    "#load a dataset that has node features\n",
    "name = \"tgbl-flight\"\n",
    "tgbl_flight = PyGLinkPropPredDataset(name=name, root=\"datasets\")"
   ]
  },
  {
   "cell_type": "code",
   "execution_count": 10,
   "metadata": {},
   "outputs": [
    {
     "data": {
      "text/plain": [
       "False"
      ]
     },
     "execution_count": 10,
     "metadata": {},
     "output_type": "execute_result"
    }
   ],
   "source": [
    "tgbl_flight.node_feat is None"
   ]
  },
  {
   "cell_type": "code",
   "execution_count": 11,
   "metadata": {},
   "outputs": [],
   "source": [
    "tgbl_flight_temporal_data= tgbl_flight.get_TemporalData()"
   ]
  },
  {
   "cell_type": "markdown",
   "metadata": {},
   "source": [
    "The node features aren't transmitted to the [TemporalData](https://pytorch-geometric.readthedocs.io/en/latest/_modules/torch_geometric/data/temporal.html) as it's not handled by this class"
   ]
  },
  {
   "cell_type": "code",
   "execution_count": 12,
   "metadata": {},
   "outputs": [
    {
     "data": {
      "text/plain": [
       "TemporalData(src=[67169570], dst=[67169570], t=[67169570], msg=[67169570, 16], y=[67169570])"
      ]
     },
     "execution_count": 12,
     "metadata": {},
     "output_type": "execute_result"
    }
   ],
   "source": [
    "tgbl_flight_temporal_data"
   ]
  },
  {
   "cell_type": "markdown",
   "metadata": {},
   "source": [
    "### Getting torch_geometric_temporal from TGB"
   ]
  },
  {
   "cell_type": "markdown",
   "metadata": {},
   "source": [
    "Inspired by [tigger2tgt](https://code.euranova.eu/rd/bishop/brainiac-1-temporal/-/blob/main/sota_paper_implementation/convertors/tigger2tgt.py) we can suggest the following transformation of tgt data graph from TemporalData. As the TemporalData object doesn't contain the node features contained in the tgb graph it can be modified from the tgb one."
   ]
  },
  {
   "cell_type": "code",
   "execution_count": 17,
   "metadata": {},
   "outputs": [],
   "source": [
    "from torch_geometric_temporal import dynamic_graph_temporal_signal\n",
    "from tgb.linkproppred.dataset_pyg import PyGLinkPropPredDataset\n",
    "from tgb.nodeproppred.dataset_pyg import PyGNodePropPredDataset\n",
    "from torch_geometric.data import TemporalData\n",
    "import numpy as np\n",
    "from typing import Union\n",
    "def convert_temp_data_to_tgt(graph_data: Union[TemporalData, PyGLinkPropPredDataset, PyGNodePropPredDataset]) -> dynamic_graph_temporal_signal.DynamicGraphTemporalSignal:\n",
    "    \"\"\"\n",
    "    graph_data (Union[TemporalData, PyGLinkPropPredDataset, PyGNodePropPredDataset]):Temporal graph dataset\n",
    "\n",
    "    returns: DynamicGraphTemporalSignal dataset instance\n",
    "    \"\"\"\n",
    "\n",
    "    edge_indices = []\n",
    "    edge_weights = []\n",
    "    targets = []\n",
    "    features = []\n",
    "    #check type of dataset\n",
    "    if isinstance(graph_data ,Union[PyGLinkPropPredDataset, PyGNodePropPredDataset ] ):\n",
    "        temporal_data = graph_data.get_TemporalData()\n",
    "        if graph_data.node_feat is not None:\n",
    "            features = np.array(graph_data.node_feat)\n",
    "    else:\n",
    "        temporal_data = graph_data        \n",
    "    nb_nodes = max( int(max( temporal_data.src.max() , temporal_data.dst.max() )), 0)\n",
    "    #loop over snapshots\n",
    "    for snapshot in temporal_data:\n",
    "\n",
    "        edges = []\n",
    "        edges.append([int(snapshot.src), int(snapshot.dst)])\n",
    "\n",
    "        edge_indices.append(np.array(edges).T)\n",
    "        edge_weights.append(np.ones(edge_indices[-1].shape[0]))\n",
    "       #add features if needed\n",
    "        if np.any(np.array(graph_data.node_feat) == None):\n",
    "            features.append(np.ones(nb_nodes).reshape([nb_nodes, 1]))\n",
    "        if snapshot.y is not None:\n",
    "            targets.append(snapshot.y)\n",
    "        else: \n",
    "            targets.append(np.ones(nb_nodes))\n",
    "    \n",
    "    \n",
    "    tgt = dynamic_graph_temporal_signal.DynamicGraphTemporalSignal(\n",
    "            edge_indices, edge_weights, features, targets\n",
    "        )\n",
    "    return tgt"
   ]
  },
  {
   "cell_type": "markdown",
   "metadata": {},
   "source": [
    "Run on TGB datasets"
   ]
  },
  {
   "cell_type": "code",
   "execution_count": 18,
   "metadata": {},
   "outputs": [
    {
     "data": {
      "text/plain": [
       "<torch_geometric_temporal.signal.dynamic_graph_temporal_signal.DynamicGraphTemporalSignal at 0x7f0a4dafbf10>"
      ]
     },
     "execution_count": 18,
     "metadata": {},
     "output_type": "execute_result"
    }
   ],
   "source": [
    "#without node feat\n",
    "convert_temp_data_to_tgt(tgbl_wiki)"
   ]
  },
  {
   "cell_type": "code",
   "execution_count": 19,
   "metadata": {},
   "outputs": [],
   "source": [
    "#with node feat\n",
    "convert_temp_data_to_tgt(tgbl_flight)"
   ]
  },
  {
   "cell_type": "code",
   "execution_count": null,
   "metadata": {},
   "outputs": [],
   "source": [
    "import torch\n",
    "from torch_geometric.data import TemporalData\n",
    "#Try with a simple TemporalData\n",
    "temporal_data_1 = TemporalData(\n",
    "    src=torch.tensor([0, 1]),\n",
    "    dst=torch.tensor([1, 2]),\n",
    "    y=torch.tensor([0, 1])\n",
    ")\n",
    "\n",
    "tgt_1 = convert_temp_data_to_tgt(temporal_data_1)\n",
    "\n",
    "# check expected edge indices\n",
    "assert torch.equal(torch.tensor(tgt_1.edge_indices).squeeze() , torch.tensor([[0, 1], [1, 2]]))"
   ]
  }
 ],
 "metadata": {
  "kernelspec": {
   "display_name": "tgb_trial",
   "language": "python",
   "name": "python3"
  },
  "language_info": {
   "codemirror_mode": {
    "name": "ipython",
    "version": 3
   },
   "file_extension": ".py",
   "mimetype": "text/x-python",
   "name": "python",
   "nbconvert_exporter": "python",
   "pygments_lexer": "ipython3",
   "version": "3.10.13"
  },
  "orig_nbformat": 4
 },
 "nbformat": 4,
 "nbformat_minor": 2
}
