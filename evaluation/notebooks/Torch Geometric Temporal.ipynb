{
 "cells": [
  {
   "cell_type": "markdown",
   "id": "3c8f5b3e",
   "metadata": {},
   "source": [
    "# Torch Geometric Temporal"
   ]
  },
  {
   "cell_type": "markdown",
   "id": "051688c7",
   "metadata": {},
   "source": [
    "TGT provided a common interface, that is, a iteration over temporal snapshots, with an easy constructor.\n",
    "You can use the convert_tigger_sample_to_tgt.py module as an example"
   ]
  },
  {
   "cell_type": "code",
   "execution_count": 1,
   "id": "24f73cd6-e5af-4371-a8a2-0fe75ebe4658",
   "metadata": {},
   "outputs": [
    {
     "name": "stdout",
     "output_type": "stream",
     "text": [
      "/home/lucas.ody/Documents/temporal-brainiac-1\n"
     ]
    }
   ],
   "source": [
    "%cd .."
   ]
  },
  {
   "cell_type": "code",
   "execution_count": null,
   "id": "18409c46-8058-4279-a65a-45afcc7ca9e3",
   "metadata": {},
   "outputs": [],
   "source": [
    "%load_ext autoreload\n",
    "%autoreload 2"
   ]
  },
  {
   "cell_type": "markdown",
   "id": "7f970ecb-6bd8-42ef-939d-ea5f8cc95f1e",
   "metadata": {},
   "source": [
    "## prerequisites\n",
    "\n",
    "Note that each sota implementation has its own requirements. the main brainiac-1-temporal env does not contains those requiremnts, so to sample new graphs from the implementation (generate the files) you should provide your own environment.\n",
    "\n",
    "Converting the files to the tgt format should still work in the main environment.\n",
    "\n",
    "For the same reason, **running the sotas assume you're in the roots of their respecive repos**, while the conversion assume you're in the root of brainiac-1-temporal. Be mindful of your **%cd**"
   ]
  },
  {
   "cell_type": "markdown",
   "id": "6b544b57-452f-4efb-9458-b3b562f95191",
   "metadata": {},
   "source": [
    "# Tigger"
   ]
  },
  {
   "cell_type": "code",
   "execution_count": 2,
   "id": "6c5c2cbd-1e37-4cd5-8712-2f850c104455",
   "metadata": {},
   "outputs": [
    {
     "name": "stdout",
     "output_type": "stream",
     "text": [
      "/home/lucas.ody/Documents/temporal-brainiac-1/sota_paper_implementation/tigger\n"
     ]
    }
   ],
   "source": [
    "%cd sota_paper_implementation/tigger"
   ]
  },
  {
   "cell_type": "code",
   "execution_count": 7,
   "id": "270d66a1-6864-4631-ab38-06df5c26feab",
   "metadata": {},
   "outputs": [
    {
     "name": "stdout",
     "output_type": "stream",
     "text": [
      "Namespace(config_path='models/insecta', data_path='./data/insecta-ant-colony/insecta-ant-colony6_small.csv', filter_walk=2, gpu_num=-1, l_w=20, num_epochs=2, window_interactions=6)\n",
      "number of nodes, 163\n",
      "Minimum, maximum timestamps 1 3\n",
      "number of interactions, 27628\n",
      "length of edges, 55256  length of nodes, 163\n",
      "100%|███████████████████████████████████| 55256/55256 [00:05<00:00, 9288.65it/s]\n",
      "Mean length 4.142355581294339 and Std deviation 0.7818132260782469\n",
      "mean log inter time and std log inter time  -1.1117273965527452 1.1506125005967414\n",
      "Max lengths of walks 4\n",
      "Computation device,  cpu\n",
      " ##### Number of parameters####  733169\n",
      "0/2Running Loss :,  1.4928187693354702\n",
      "Running event loss:  3.355703703488662 0.2542010496307799\n",
      "Running time log loss:  -1.8628849348792345 1.1734487609682258\n",
      "Running evaluation\n",
      "Event prediction rate:, 0.31887641973811376\n",
      "Event prediction rate@top5:, 0.4330919536334065\n",
      "2/2"
     ]
    }
   ],
   "source": [
    "!python train_transductive.py --data_path=./data/insecta-ant-colony/insecta-ant-colony6_small.csv --config_path=models/insecta --num_epochs 2"
   ]
  },
  {
   "cell_type": "code",
   "execution_count": 8,
   "id": "2401fa4e-58ef-4655-b600-bd7e23d1eba4",
   "metadata": {},
   "outputs": [
    {
     "name": "stdout",
     "output_type": "stream",
     "text": [
      "Namespace(config_path='models/insecta/', data_path='./data/insecta-ant-colony/insecta-ant-colony6_small.csv', l_w=10, num_of_sampled_graphs=1, time_window=10, topk_edge_sampling=0)\n",
      "0\n",
      "0 82884 82884\n",
      "Mean length 2.9389990830558372 and Std deviation 0.9037160023235626\n",
      "54605\n",
      "100%|██████████████████████████████████| 54605/54605 [00:00<00:00, 92573.12it/s]\n",
      "0/1Dumped the generated graph\n",
      "\n"
     ]
    }
   ],
   "source": [
    "!python graph_generation_from_sampled_random_walks.py --data_path=./data/insecta-ant-colony/insecta-ant-colony6_small.csv --config_path=models/insecta/ --num_of_sampled_graphs=1 --time_window=10 --topk_edge_sampling=0"
   ]
  },
  {
   "cell_type": "code",
   "execution_count": 9,
   "id": "18d257b0-4a9d-46aa-91a0-258c38b61ced",
   "metadata": {},
   "outputs": [
    {
     "name": "stdout",
     "output_type": "stream",
     "text": [
      "/home/lucas.ody/Documents/temporal-brainiac-1\n"
     ]
    }
   ],
   "source": [
    "%cd ../.."
   ]
  },
  {
   "cell_type": "code",
   "execution_count": 10,
   "id": "bce9255c",
   "metadata": {},
   "outputs": [],
   "source": [
    "from sota_paper_implementation.convertors.tigger2tgt import convert_tigger_sample_to_tgt"
   ]
  },
  {
   "cell_type": "code",
   "execution_count": null,
   "id": "8447621d-815e-47b2-a156-646ce91ddb95",
   "metadata": {},
   "outputs": [],
   "source": [
    "from brainiac_temporal.metrics import link_forecasting_metric"
   ]
  },
  {
   "cell_type": "markdown",
   "id": "96229639",
   "metadata": {},
   "source": [
    "Simply call the converter to get the TGT dataloaders:"
   ]
  },
  {
   "cell_type": "code",
   "execution_count": null,
   "id": "66b296ab",
   "metadata": {},
   "outputs": [],
   "source": [
    "samples = convert_tigger_sample_to_tgt(\"sota_paper_implementation/tigger/models/test/results/sampled_graph_0.pkl\")\n",
    "originals = convert_tigger_sample_to_tgt(\"sota_paper_implementation/tigger/models/test/results/original_graphs.pkl\")"
   ]
  },
  {
   "cell_type": "markdown",
   "id": "4f43baec",
   "metadata": {},
   "source": [
    "Each snapshot can be iterated over in chronological order, or index."
   ]
  },
  {
   "cell_type": "code",
   "execution_count": null,
   "id": "90596bb7",
   "metadata": {},
   "outputs": [],
   "source": [
    "print(link_forecasting_metric(samples, originals, max_epochs=10, message_passing_kwargs={\"K\": 2}))"
   ]
  },
  {
   "cell_type": "markdown",
   "id": "ff7255a4-c388-4c7e-9a5e-726fb0593fe8",
   "metadata": {},
   "source": [
    "# Dymond\n",
    "\n",
    "you can find Dymond's documentation here: https://zeno129.github.io/DYMOND/example_learn.html"
   ]
  },
  {
   "cell_type": "code",
   "execution_count": 11,
   "id": "07d79630-db29-495e-9e0a-d446c054f9b0",
   "metadata": {},
   "outputs": [
    {
     "name": "stdout",
     "output_type": "stream",
     "text": [
      "/home/lucas.ody/Documents/temporal-brainiac-1/sota_paper_implementation/DYMOND\n"
     ]
    }
   ],
   "source": [
    "%cd sota_paper_implementation/DYMOND"
   ]
  },
  {
   "cell_type": "code",
   "execution_count": 21,
   "id": "217128e3-c34d-4ae7-93ca-7e7a3adb29af",
   "metadata": {},
   "outputs": [
    {
     "name": "stdout",
     "output_type": "stream",
     "text": [
      "create_dataset_info.py\tdata\t\t  docs\t  DYMOND     setup.py\n",
      "create_dataset.py\tdependencies.txt  docsrc  README.md\n"
     ]
    }
   ],
   "source": [
    "!ls"
   ]
  },
  {
   "cell_type": "markdown",
   "id": "b28b6acf-4398-4cc5-a94f-c1f5f3d368ae",
   "metadata": {},
   "source": [
    "learn parameters:"
   ]
  },
  {
   "cell_type": "code",
   "execution_count": 17,
   "id": "e1dd6241-bcfc-4b74-81e5-4c6f5bb7faf7",
   "metadata": {},
   "outputs": [
    {
     "name": "stdout",
     "output_type": "stream",
     "text": [
      "graph read\n",
      "dataset created: edges : 247214\n",
      "metadata created\n"
     ]
    }
   ],
   "source": [
    "!python create_dataset.py data/insecta /home/lucas.ody/Downloads/insecta-ant-colony6/insecta-ant-colony6.edges"
   ]
  },
  {
   "cell_type": "code",
   "execution_count": 23,
   "id": "a4262909-68e8-4588-a57b-9c2d6f3ba845",
   "metadata": {},
   "outputs": [
    {
     "name": "stdout",
     "output_type": "stream",
     "text": [
      "Obtaining file:///home/lucas.ody/Documents/temporal-brainiac-1/sota_paper_implementation/DYMOND\n",
      "  Preparing metadata (setup.py) ... \u001b[?25ldone\n",
      "\u001b[?25hInstalling collected packages: DYMOND\n",
      "  Running setup.py develop for DYMOND\n",
      "Successfully installed DYMOND-1.0.0\n",
      "\n",
      "\u001b[1m[\u001b[0m\u001b[34;49mnotice\u001b[0m\u001b[1;39;49m]\u001b[0m\u001b[39;49m A new release of pip is available: \u001b[0m\u001b[31;49m23.0\u001b[0m\u001b[39;49m -> \u001b[0m\u001b[32;49m23.2.1\u001b[0m\n",
      "\u001b[1m[\u001b[0m\u001b[34;49mnotice\u001b[0m\u001b[1;39;49m]\u001b[0m\u001b[39;49m To update, run: \u001b[0m\u001b[32;49mpip install --upgrade pip\u001b[0m\n"
     ]
    }
   ],
   "source": [
    "!pip install -e ."
   ]
  },
  {
   "cell_type": "code",
   "execution_count": 25,
   "id": "3133bdf5-31f0-448d-9ee2-fac1259d8705",
   "metadata": {},
   "outputs": [
    {
     "name": "stdout",
     "output_type": "stream",
     "text": [
      "Collecting msgpack\n",
      "  Downloading msgpack-1.0.5-cp38-cp38-manylinux_2_17_x86_64.manylinux2014_x86_64.whl (322 kB)\n",
      "\u001b[2K     \u001b[38;2;114;156;31m━━━━━━━━━━━━━━━━━━━━━━━━━━━━━━━━━━━━━━━\u001b[0m \u001b[32m322.4/322.4 kB\u001b[0m \u001b[31m5.2 MB/s\u001b[0m eta \u001b[36m0:00:00\u001b[0m[31m5.3 MB/s\u001b[0m eta \u001b[36m0:00:01\u001b[0m\n",
      "\u001b[?25hInstalling collected packages: msgpack\n",
      "Successfully installed msgpack-1.0.5\n",
      "\n",
      "\u001b[1m[\u001b[0m\u001b[34;49mnotice\u001b[0m\u001b[1;39;49m]\u001b[0m\u001b[39;49m A new release of pip is available: \u001b[0m\u001b[31;49m23.0\u001b[0m\u001b[39;49m -> \u001b[0m\u001b[32;49m23.2.1\u001b[0m\n",
      "\u001b[1m[\u001b[0m\u001b[34;49mnotice\u001b[0m\u001b[1;39;49m]\u001b[0m\u001b[39;49m To update, run: \u001b[0m\u001b[32;49mpip install --upgrade pip\u001b[0m\n"
     ]
    }
   ],
   "source": [
    "!pip install msgpack"
   ]
  },
  {
   "cell_type": "code",
   "execution_count": null,
   "id": "ff8d4c3b-5a7f-4a81-baca-c9c899a196c3",
   "metadata": {},
   "outputs": [
    {
     "name": "stdout",
     "output_type": "stream",
     "text": [
      "INFO:root:dataset loaded\n",
      "INFO:root:Learning node arrival rates...\n",
      "INFO:root:node arrivals learned\n",
      "INFO:root:Get motifs in graph\n",
      "INFO:root:Get active nodes (per timestep)\n",
      "1, 2, 3, 4, 5, 6, 7, 8, 9, 10, 11, 12, 13, 14, 15, 16, 17, 18, 19, 20, 21, 22, 23, 24, 25, 26, 27, 28, 29, 30, 31, 32, 33, 34, 35, 36, 37, 38, 39, 40, 41, 42, 43, 44, 45, 46, 47, 48, 49, 50, 51, 52, 53, 54, 55, 56, 57, 58, 59, 60, 61, 62, 63, 64, 65, 66, 67, 68, 69, 70, 71, 72, 73, 74, 75, 76, 77, 78, 79, 80, 81, 82, 83, 84, 85, 86, 87, 88, 89, 90, 91, 92, 93, 94, 95, 96, 97, 98, 99, 100, 101, 102, 103, 104, 105, 106, 107, 108, 109, 110, 111, 112, 113, 114, 115, 116, 117, 118, 119, 120, 121, 122, 123, 124, 125, 126, 127, 128, 129, 130, 131, 132, 133, 134, 135, 136, 137, 138, 139, 140, 141, 142, 143, 144, 145, 146, 147, 148, 149, 150, 151, 152, 153, 154, 155, 156, 157, 158, 159, 160, 161, 162, 163, 164, 165\n",
      "INFO:root:Saved temp file\n"
     ]
    }
   ],
   "source": [
    "!python DYMOND/learning/learn_parameters.py 'data/insecta'"
   ]
  },
  {
   "cell_type": "markdown",
   "id": "230dfc2e-8246-4539-bae6-c87de9e33078",
   "metadata": {},
   "source": [
    "This requires the dataset directory to be correct. Follow their documentation to create one.\n",
    "Alternatively, use the create_dataset.py file for datasets from networkrepository: https://networkrepository.com/insecta-ant-colony6.php"
   ]
  },
  {
   "cell_type": "markdown",
   "id": "c3f4d1c6-af46-4f92-99c9-a157f457bda5",
   "metadata": {},
   "source": [
    "You can now generate new graphs:"
   ]
  },
  {
   "cell_type": "code",
   "execution_count": null,
   "id": "14834223-6838-4a01-92d3-f3e5b010e6e9",
   "metadata": {},
   "outputs": [],
   "source": [
    "!python generate_dynamic_graph.py 'data/' 10"
   ]
  },
  {
   "cell_type": "markdown",
   "id": "9882a6be-b6be-4418-9d16-a5ab7a4e3a30",
   "metadata": {},
   "source": [
    "This will generate the data in dataset_directory/learned_parameters/generated_graph/generated_graph.pklz. This file can then be passed to the converter:"
   ]
  },
  {
   "cell_type": "code",
   "execution_count": null,
   "id": "55942394-e46b-4511-93ce-44f78c7a09a3",
   "metadata": {},
   "outputs": [],
   "source": [
    "%cd ../.."
   ]
  },
  {
   "cell_type": "code",
   "execution_count": null,
   "id": "dbeede36-32e3-47d3-bf32-902f644d46e0",
   "metadata": {},
   "outputs": [],
   "source": [
    "from sota_paper_implementation.convertors.dymond2tgt import convert_dymond_sample_to_tgt"
   ]
  },
  {
   "cell_type": "code",
   "execution_count": null,
   "id": "44a2b9a1-dbf2-4d5d-8dbf-5f3a18f2fe7e",
   "metadata": {},
   "outputs": [],
   "source": [
    "samples = convert_tigger_sample_to_tgt(\"sota_paper_implementation/DYMOND/data/learned_parameters/generated_graph/generated_graph.pklz\")"
   ]
  },
  {
   "cell_type": "markdown",
   "id": "cfe8dda3-3177-4074-8bf2-f5ced091a89a",
   "metadata": {},
   "source": [
    "# D2G2"
   ]
  },
  {
   "cell_type": "markdown",
   "id": "0140d70c-6ebb-4016-832e-985eef9bae7f",
   "metadata": {},
   "source": [
    "d2g2 need you to put your own have matrix and feature matrix, as dumped numpy arrays. they need to match file name and dimensions.\n",
    "\n",
    "As far as I understood, that's the format:\n",
    "\n",
    "|              |                            |\n",
    "|--------------|----------------------------|\n",
    "| adj.npy      | Batch, time, Node_X, Node_Y|\n",
    "| feature.npy  | Batch, time, Node, feat    |"
   ]
  },
  {
   "cell_type": "code",
   "execution_count": null,
   "id": "a86d9b00-e3e3-4a07-9810-29f4bc800ade",
   "metadata": {},
   "outputs": [],
   "source": [
    "%cd sota_paper_implementation/D2G2"
   ]
  },
  {
   "cell_type": "code",
   "execution_count": null,
   "id": "f55f450a-d79a-4785-a6f2-34d0ba5172f3",
   "metadata": {},
   "outputs": [],
   "source": [
    "!python trainer.py -d dataset/insecta"
   ]
  },
  {
   "cell_type": "markdown",
   "id": "282d96f8-7f2a-47a4-90a6-60de8c8d3bdb",
   "metadata": {},
   "source": [
    "There was a broken generating function inside. \n",
    "\n",
    "the decoder uses latent variables representing edges, nodes, edge/node relation, and time-invariant relations. The edge/node relation part was missing in the generation code.\n",
    "\n",
    "\n",
    "I patched it up by duplicating the edges or nodes (each for their own latent vector, check code if curious) instead of generating simple gaussian latents, since it seems they sample with a specific method"
   ]
  },
  {
   "cell_type": "code",
   "execution_count": null,
   "id": "cd7ba77c-0e42-484f-aa0c-5ad5acadbd16",
   "metadata": {},
   "outputs": [],
   "source": [
    "!python trainer.py -g -d dataset/insecta"
   ]
  },
  {
   "cell_type": "code",
   "execution_count": null,
   "id": "f6c77624-2153-4e13-aec0-64155ea4ff5a",
   "metadata": {},
   "outputs": [],
   "source": [
    "%cd ../.."
   ]
  },
  {
   "cell_type": "code",
   "execution_count": null,
   "id": "04ff7a44-0afb-4c58-897d-f038e80fb8d0",
   "metadata": {},
   "outputs": [],
   "source": [
    "from sota_paper_implementation.convertors.d2g22tgt import convert_d2g2_sample_to_tgt"
   ]
  },
  {
   "cell_type": "code",
   "execution_count": null,
   "id": "546ec29a-8203-4ab7-95d2-2751099fde61",
   "metadata": {},
   "outputs": [],
   "source": [
    "samples = convert_d2g2_sample_to_tgt(\"sota_paper_implementation/D2G2/output/\")"
   ]
  }
 ],
 "metadata": {
  "kernelspec": {
   "display_name": "Python 3 (ipykernel)",
   "language": "python",
   "name": "python3"
  },
  "language_info": {
   "codemirror_mode": {
    "name": "ipython",
    "version": 3
   },
   "file_extension": ".py",
   "mimetype": "text/x-python",
   "name": "python",
   "nbconvert_exporter": "python",
   "pygments_lexer": "ipython3",
   "version": "3.8.16"
  }
 },
 "nbformat": 4,
 "nbformat_minor": 5
}
